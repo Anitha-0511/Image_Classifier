{
  "nbformat": 4,
  "nbformat_minor": 0,
  "metadata": {
    "colab": {
      "provenance": [],
      "mount_file_id": "1BgitXs5HEwxEOUV4O8If13mEs_wI1YGd",
      "authorship_tag": "ABX9TyNSiX0lYHbZcRBectctPcY6",
      "include_colab_link": true
    },
    "kernelspec": {
      "name": "python3",
      "display_name": "Python 3"
    },
    "language_info": {
      "name": "python"
    }
  },
  "cells": [
    {
      "cell_type": "markdown",
      "metadata": {
        "id": "view-in-github",
        "colab_type": "text"
      },
      "source": [
        "<a href=\"https://colab.research.google.com/github/Anitha-0511/Image_Classifier/blob/main/Untitled62.ipynb\" target=\"_parent\"><img src=\"https://colab.research.google.com/assets/colab-badge.svg\" alt=\"Open In Colab\"/></a>"
      ]
    },
    {
      "cell_type": "markdown",
      "source": [
        "Learnings From Pre Built Model"
      ],
      "metadata": {
        "id": "BZGdMBhkqX6_"
      }
    },
    {
      "cell_type": "markdown",
      "source": [
        "Problem Statement:"
      ],
      "metadata": {
        "id": "IDFZ2_cUqghr"
      }
    },
    {
      "cell_type": "markdown",
      "source": [
        "The categorization of images into distinct classes is a pervasive task in computer vision, and it has a wide array of applications, including in pet identification and animal monitoring systems. In this assignment, we aim to develop a model capable of accurately distinguishing between cat and dog images. Instead of building a convolutional neural network (CNN) from scratch, we will leverage transfer learning using the VGG16 model, a pre-trained model on the ImageNet dataset. VGG16 is renowned for its effectiveness in image recognition tasks, but it does not have broad categories for cats and dogs. Therefore, we will utilize the convolutional (Conv) layers of VGG16 for feature extraction and add custom fully connected (Cat) layers for the classification task."
      ],
      "metadata": {
        "id": "DuaSM99cqnSy"
      }
    },
    {
      "cell_type": "markdown",
      "source": [
        "Datasetlink : https://drive.google.com/drive/folders/112vfiFUIWt7MYroLM9lgRHB9Mf0RWXq4?usp=drive_link"
      ],
      "metadata": {
        "id": "4MWIKMEOrYop"
      }
    },
    {
      "cell_type": "code",
      "execution_count": null,
      "metadata": {
        "colab": {
          "base_uri": "https://localhost:8080/"
        },
        "id": "F80b-PykqSSB",
        "outputId": "9f53794d-c28a-490b-d306-017357802a4e"
      },
      "outputs": [
        {
          "output_type": "stream",
          "name": "stdout",
          "text": [
            "Drive already mounted at /content/drive; to attempt to forcibly remount, call drive.mount(\"/content/drive\", force_remount=True).\n"
          ]
        }
      ],
      "source": [
        "from google.colab import drive\n",
        "drive.mount('/content/drive')"
      ]
    },
    {
      "cell_type": "code",
      "source": [
        "!/content/drive/MyDrive/Dataset_image"
      ],
      "metadata": {
        "colab": {
          "base_uri": "https://localhost:8080/"
        },
        "id": "L_inDTKUt27g",
        "outputId": "131a2cb3-90d5-4d9e-a263-608fcd712788"
      },
      "execution_count": null,
      "outputs": [
        {
          "output_type": "stream",
          "name": "stdout",
          "text": [
            "/bin/bash: line 1: /content/drive/MyDrive/Dataset_image: Is a directory\n"
          ]
        }
      ]
    },
    {
      "cell_type": "code",
      "source": [
        "import os\n",
        "import shutil\n",
        "from sklearn.model_selection import train_test_split"
      ],
      "metadata": {
        "id": "HiFScJIzucK3"
      },
      "execution_count": null,
      "outputs": []
    },
    {
      "cell_type": "code",
      "source": [
        "# Define paths\n",
        "dataset_dir = '/content/drive/MyDrive/Dataset_image'\n",
        "output_dir = '/content/dataset_split'"
      ],
      "metadata": {
        "id": "KLOBEFPduh7S"
      },
      "execution_count": null,
      "outputs": []
    },
    {
      "cell_type": "code",
      "source": [
        "# Create train, validation, and test directories\n",
        "for folder in ['train', 'validation', 'test']:\n",
        "    for category in ['cats', 'dogs']:\n",
        "        os.makedirs(os.path.join(output_dir, folder, category), exist_ok=True)"
      ],
      "metadata": {
        "id": "IuU5QY5kuzZ3"
      },
      "execution_count": null,
      "outputs": []
    },
    {
      "cell_type": "code",
      "source": [
        "# Move images into train, validation, and test sets\n",
        "for category in ['cats', 'dogs']:\n",
        "    source_dir = os.path.join(dataset_dir, category)\n",
        "    images = os.listdir(source_dir)\n",
        "\n",
        "    train, val_test = train_test_split(images, test_size=0.3, random_state=42)\n",
        "    val, test = train_test_split(val_test, test_size=0.5, random_state=42)\n",
        "\n",
        "    for fname in train:\n",
        "        shutil.copy(os.path.join(source_dir, fname), os.path.join(output_dir, 'train', category, fname))\n",
        "    for fname in val:\n",
        "        shutil.copy(os.path.join(source_dir, fname), os.path.join(output_dir, 'validation', category, fname))\n",
        "    for fname in test:\n",
        "        shutil.copy(os.path.join(source_dir, fname), os.path.join(output_dir, 'test', category, fname))\n",
        "\n",
        "print(\"Dataset organized successfully!\")"
      ],
      "metadata": {
        "colab": {
          "base_uri": "https://localhost:8080/"
        },
        "id": "kjCXBI2ju01g",
        "outputId": "05c4d560-72d1-4dfc-f373-f05c596b62d2"
      },
      "execution_count": null,
      "outputs": [
        {
          "output_type": "stream",
          "name": "stdout",
          "text": [
            "Dataset organized successfully!\n"
          ]
        }
      ]
    },
    {
      "cell_type": "code",
      "source": [
        "!ls /content/dataset_split/train/cats\n",
        "!ls /content/dataset_split/train/dogs"
      ],
      "metadata": {
        "colab": {
          "base_uri": "https://localhost:8080/"
        },
        "id": "TiGWYhmku6_h",
        "outputId": "d7c89900-338d-40f1-bb42-706f5fbe26b8"
      },
      "execution_count": null,
      "outputs": [
        {
          "output_type": "stream",
          "name": "stdout",
          "text": [
            "cat.100.jpg  cat.230.jpg  cat.357.jpg  cat.490.jpg  cat.619.jpg  cat.746.jpg  cat.868.jpg\n",
            "cat.103.jpg  cat.231.jpg  cat.358.jpg  cat.491.jpg  cat.61.jpg\t cat.747.jpg  cat.86.jpg\n",
            "cat.104.jpg  cat.232.jpg  cat.359.jpg  cat.492.jpg  cat.620.jpg  cat.748.jpg  cat.870.jpg\n",
            "cat.108.jpg  cat.233.jpg  cat.360.jpg  cat.493.jpg  cat.621.jpg  cat.749.jpg  cat.871.jpg\n",
            "cat.109.jpg  cat.234.jpg  cat.362.jpg  cat.494.jpg  cat.624.jpg  cat.751.jpg  cat.872.jpg\n",
            "cat.10.jpg   cat.236.jpg  cat.365.jpg  cat.495.jpg  cat.625.jpg  cat.752.jpg  cat.873.jpg\n",
            "cat.110.jpg  cat.237.jpg  cat.366.jpg  cat.496.jpg  cat.626.jpg  cat.753.jpg  cat.876.jpg\n",
            "cat.111.jpg  cat.238.jpg  cat.368.jpg  cat.497.jpg  cat.629.jpg  cat.754.jpg  cat.877.jpg\n",
            "cat.112.jpg  cat.23.jpg   cat.36.jpg   cat.498.jpg  cat.62.jpg\t cat.756.jpg  cat.878.jpg\n",
            "cat.113.jpg  cat.240.jpg  cat.370.jpg  cat.500.jpg  cat.631.jpg  cat.759.jpg  cat.879.jpg\n",
            "cat.114.jpg  cat.241.jpg  cat.372.jpg  cat.501.jpg  cat.632.jpg  cat.75.jpg   cat.87.jpg\n",
            "cat.115.jpg  cat.242.jpg  cat.375.jpg  cat.504.jpg  cat.633.jpg  cat.760.jpg  cat.880.jpg\n",
            "cat.116.jpg  cat.243.jpg  cat.376.jpg  cat.505.jpg  cat.634.jpg  cat.762.jpg  cat.881.jpg\n",
            "cat.117.jpg  cat.244.jpg  cat.379.jpg  cat.506.jpg  cat.635.jpg  cat.763.jpg  cat.884.jpg\n",
            "cat.118.jpg  cat.246.jpg  cat.37.jpg   cat.507.jpg  cat.636.jpg  cat.764.jpg  cat.885.jpg\n",
            "cat.119.jpg  cat.247.jpg  cat.382.jpg  cat.508.jpg  cat.637.jpg  cat.765.jpg  cat.886.jpg\n",
            "cat.11.jpg   cat.248.jpg  cat.383.jpg  cat.509.jpg  cat.639.jpg  cat.766.jpg  cat.887.jpg\n",
            "cat.123.jpg  cat.249.jpg  cat.385.jpg  cat.50.jpg   cat.640.jpg  cat.767.jpg  cat.888.jpg\n",
            "cat.124.jpg  cat.24.jpg   cat.387.jpg  cat.510.jpg  cat.641.jpg  cat.768.jpg  cat.889.jpg\n",
            "cat.125.jpg  cat.250.jpg  cat.388.jpg  cat.511.jpg  cat.642.jpg  cat.769.jpg  cat.88.jpg\n",
            "cat.126.jpg  cat.251.jpg  cat.390.jpg  cat.514.jpg  cat.643.jpg  cat.76.jpg   cat.890.jpg\n",
            "cat.127.jpg  cat.252.jpg  cat.392.jpg  cat.515.jpg  cat.645.jpg  cat.770.jpg  cat.891.jpg\n",
            "cat.128.jpg  cat.253.jpg  cat.393.jpg  cat.516.jpg  cat.646.jpg  cat.771.jpg  cat.892.jpg\n",
            "cat.130.jpg  cat.254.jpg  cat.394.jpg  cat.517.jpg  cat.647.jpg  cat.772.jpg  cat.893.jpg\n",
            "cat.131.jpg  cat.256.jpg  cat.396.jpg  cat.519.jpg  cat.648.jpg  cat.773.jpg  cat.894.jpg\n",
            "cat.133.jpg  cat.257.jpg  cat.397.jpg  cat.51.jpg   cat.649.jpg  cat.774.jpg  cat.895.jpg\n",
            "cat.134.jpg  cat.258.jpg  cat.398.jpg  cat.520.jpg  cat.64.jpg\t cat.775.jpg  cat.89.jpg\n",
            "cat.136.jpg  cat.259.jpg  cat.399.jpg  cat.522.jpg  cat.651.jpg  cat.776.jpg  cat.8.jpg\n",
            "cat.137.jpg  cat.25.jpg   cat.3.jpg    cat.523.jpg  cat.653.jpg  cat.778.jpg  cat.900.jpg\n",
            "cat.13.jpg   cat.260.jpg  cat.400.jpg  cat.524.jpg  cat.655.jpg  cat.77.jpg   cat.901.jpg\n",
            "cat.140.jpg  cat.261.jpg  cat.401.jpg  cat.525.jpg  cat.657.jpg  cat.780.jpg  cat.903.jpg\n",
            "cat.141.jpg  cat.263.jpg  cat.402.jpg  cat.526.jpg  cat.658.jpg  cat.781.jpg  cat.904.jpg\n",
            "cat.142.jpg  cat.265.jpg  cat.403.jpg  cat.527.jpg  cat.659.jpg  cat.783.jpg  cat.905.jpg\n",
            "cat.143.jpg  cat.266.jpg  cat.404.jpg  cat.528.jpg  cat.65.jpg\t cat.785.jpg  cat.906.jpg\n",
            "cat.145.jpg  cat.267.jpg  cat.406.jpg  cat.529.jpg  cat.660.jpg  cat.786.jpg  cat.909.jpg\n",
            "cat.147.jpg  cat.268.jpg  cat.411.jpg  cat.52.jpg   cat.661.jpg  cat.787.jpg  cat.90.jpg\n",
            "cat.148.jpg  cat.269.jpg  cat.412.jpg  cat.531.jpg  cat.662.jpg  cat.788.jpg  cat.910.jpg\n",
            "cat.149.jpg  cat.26.jpg   cat.413.jpg  cat.533.jpg  cat.664.jpg  cat.789.jpg  cat.911.jpg\n",
            "cat.150.jpg  cat.270.jpg  cat.414.jpg  cat.534.jpg  cat.667.jpg  cat.78.jpg   cat.912.jpg\n",
            "cat.152.jpg  cat.271.jpg  cat.415.jpg  cat.536.jpg  cat.668.jpg  cat.790.jpg  cat.913.jpg\n",
            "cat.153.jpg  cat.272.jpg  cat.416.jpg  cat.537.jpg  cat.66.jpg\t cat.791.jpg  cat.914.jpg\n",
            "cat.158.jpg  cat.275.jpg  cat.417.jpg  cat.539.jpg  cat.670.jpg  cat.792.jpg  cat.915.jpg\n",
            "cat.159.jpg  cat.276.jpg  cat.418.jpg  cat.540.jpg  cat.671.jpg  cat.794.jpg  cat.91.jpg\n",
            "cat.15.jpg   cat.277.jpg  cat.422.jpg  cat.541.jpg  cat.672.jpg  cat.795.jpg  cat.920.jpg\n",
            "cat.160.jpg  cat.279.jpg  cat.425.jpg  cat.543.jpg  cat.674.jpg  cat.796.jpg  cat.921.jpg\n",
            "cat.161.jpg  cat.280.jpg  cat.426.jpg  cat.544.jpg  cat.675.jpg  cat.797.jpg  cat.922.jpg\n",
            "cat.165.jpg  cat.281.jpg  cat.427.jpg  cat.546.jpg  cat.676.jpg  cat.798.jpg  cat.923.jpg\n",
            "cat.166.jpg  cat.282.jpg  cat.428.jpg  cat.547.jpg  cat.678.jpg  cat.799.jpg  cat.925.jpg\n",
            "cat.16.jpg   cat.283.jpg  cat.429.jpg  cat.54.jpg   cat.679.jpg  cat.79.jpg   cat.926.jpg\n",
            "cat.171.jpg  cat.285.jpg  cat.42.jpg   cat.551.jpg  cat.67.jpg\t cat.801.jpg  cat.928.jpg\n",
            "cat.172.jpg  cat.286.jpg  cat.430.jpg  cat.552.jpg  cat.682.jpg  cat.802.jpg  cat.929.jpg\n",
            "cat.173.jpg  cat.287.jpg  cat.431.jpg  cat.553.jpg  cat.683.jpg  cat.803.jpg  cat.930.jpg\n",
            "cat.174.jpg  cat.288.jpg  cat.432.jpg  cat.554.jpg  cat.685.jpg  cat.805.jpg  cat.933.jpg\n",
            "cat.176.jpg  cat.290.jpg  cat.433.jpg  cat.555.jpg  cat.686.jpg  cat.806.jpg  cat.934.jpg\n",
            "cat.177.jpg  cat.291.jpg  cat.436.jpg  cat.556.jpg  cat.687.jpg  cat.807.jpg  cat.936.jpg\n",
            "cat.178.jpg  cat.298.jpg  cat.437.jpg  cat.557.jpg  cat.688.jpg  cat.808.jpg  cat.937.jpg\n",
            "cat.179.jpg  cat.299.jpg  cat.43.jpg   cat.558.jpg  cat.68.jpg\t cat.809.jpg  cat.938.jpg\n",
            "cat.17.jpg   cat.29.jpg   cat.440.jpg  cat.559.jpg  cat.690.jpg  cat.80.jpg   cat.93.jpg\n",
            "cat.180.jpg  cat.2.jpg\t  cat.442.jpg  cat.55.jpg   cat.691.jpg  cat.811.jpg  cat.941.jpg\n",
            "cat.182.jpg  cat.300.jpg  cat.443.jpg  cat.560.jpg  cat.694.jpg  cat.812.jpg  cat.942.jpg\n",
            "cat.183.jpg  cat.301.jpg  cat.444.jpg  cat.564.jpg  cat.695.jpg  cat.814.jpg  cat.943.jpg\n",
            "cat.184.jpg  cat.304.jpg  cat.445.jpg  cat.566.jpg  cat.697.jpg  cat.818.jpg  cat.945.jpg\n",
            "cat.185.jpg  cat.305.jpg  cat.446.jpg  cat.567.jpg  cat.699.jpg  cat.820.jpg  cat.946.jpg\n",
            "cat.186.jpg  cat.307.jpg  cat.447.jpg  cat.56.jpg   cat.69.jpg\t cat.821.jpg  cat.948.jpg\n",
            "cat.187.jpg  cat.308.jpg  cat.448.jpg  cat.570.jpg  cat.6.jpg\t cat.822.jpg  cat.950.jpg\n",
            "cat.188.jpg  cat.309.jpg  cat.449.jpg  cat.571.jpg  cat.702.jpg  cat.823.jpg  cat.951.jpg\n",
            "cat.191.jpg  cat.30.jpg   cat.44.jpg   cat.573.jpg  cat.704.jpg  cat.825.jpg  cat.952.jpg\n",
            "cat.194.jpg  cat.310.jpg  cat.450.jpg  cat.574.jpg  cat.705.jpg  cat.826.jpg  cat.953.jpg\n",
            "cat.195.jpg  cat.312.jpg  cat.451.jpg  cat.577.jpg  cat.706.jpg  cat.827.jpg  cat.955.jpg\n",
            "cat.197.jpg  cat.314.jpg  cat.454.jpg  cat.578.jpg  cat.707.jpg  cat.828.jpg  cat.956.jpg\n",
            "cat.198.jpg  cat.315.jpg  cat.455.jpg  cat.579.jpg  cat.708.jpg  cat.82.jpg   cat.958.jpg\n",
            "cat.199.jpg  cat.316.jpg  cat.456.jpg  cat.580.jpg  cat.709.jpg  cat.830.jpg  cat.961.jpg\n",
            "cat.19.jpg   cat.317.jpg  cat.457.jpg  cat.582.jpg  cat.70.jpg\t cat.832.jpg  cat.962.jpg\n",
            "cat.1.jpg    cat.318.jpg  cat.459.jpg  cat.583.jpg  cat.712.jpg  cat.833.jpg  cat.963.jpg\n",
            "cat.200.jpg  cat.319.jpg  cat.45.jpg   cat.585.jpg  cat.713.jpg  cat.834.jpg  cat.966.jpg\n",
            "cat.201.jpg  cat.31.jpg   cat.460.jpg  cat.587.jpg  cat.714.jpg  cat.835.jpg  cat.968.jpg\n",
            "cat.203.jpg  cat.321.jpg  cat.461.jpg  cat.590.jpg  cat.715.jpg  cat.838.jpg  cat.96.jpg\n",
            "cat.205.jpg  cat.325.jpg  cat.462.jpg  cat.591.jpg  cat.718.jpg  cat.839.jpg  cat.970.jpg\n",
            "cat.206.jpg  cat.326.jpg  cat.463.jpg  cat.592.jpg  cat.719.jpg  cat.83.jpg   cat.971.jpg\n",
            "cat.207.jpg  cat.327.jpg  cat.464.jpg  cat.593.jpg  cat.721.jpg  cat.841.jpg  cat.972.jpg\n",
            "cat.208.jpg  cat.32.jpg   cat.465.jpg  cat.594.jpg  cat.722.jpg  cat.842.jpg  cat.973.jpg\n",
            "cat.209.jpg  cat.331.jpg  cat.466.jpg  cat.598.jpg  cat.723.jpg  cat.844.jpg  cat.975.jpg\n",
            "cat.20.jpg   cat.332.jpg  cat.467.jpg  cat.599.jpg  cat.724.jpg  cat.845.jpg  cat.976.jpg\n",
            "cat.210.jpg  cat.333.jpg  cat.468.jpg  cat.59.jpg   cat.725.jpg  cat.846.jpg  cat.977.jpg\n",
            "cat.211.jpg  cat.334.jpg  cat.469.jpg  cat.5.jpg    cat.726.jpg  cat.847.jpg  cat.978.jpg\n",
            "cat.213.jpg  cat.335.jpg  cat.46.jpg   cat.600.jpg  cat.728.jpg  cat.848.jpg  cat.979.jpg\n",
            "cat.214.jpg  cat.336.jpg  cat.470.jpg  cat.601.jpg  cat.729.jpg  cat.84.jpg   cat.980.jpg\n",
            "cat.215.jpg  cat.339.jpg  cat.472.jpg  cat.602.jpg  cat.72.jpg\t cat.850.jpg  cat.983.jpg\n",
            "cat.216.jpg  cat.33.jpg   cat.473.jpg  cat.604.jpg  cat.730.jpg  cat.852.jpg  cat.984.jpg\n",
            "cat.217.jpg  cat.340.jpg  cat.474.jpg  cat.605.jpg  cat.733.jpg  cat.855.jpg  cat.985.jpg\n",
            "cat.218.jpg  cat.341.jpg  cat.475.jpg  cat.606.jpg  cat.734.jpg  cat.856.jpg  cat.987.jpg\n",
            "cat.219.jpg  cat.343.jpg  cat.476.jpg  cat.607.jpg  cat.735.jpg  cat.857.jpg  cat.988.jpg\n",
            "cat.21.jpg   cat.345.jpg  cat.478.jpg  cat.608.jpg  cat.736.jpg  cat.858.jpg  cat.990.jpg\n",
            "cat.221.jpg  cat.347.jpg  cat.479.jpg  cat.609.jpg  cat.737.jpg  cat.859.jpg  cat.993.jpg\n",
            "cat.223.jpg  cat.348.jpg  cat.480.jpg  cat.60.jpg   cat.739.jpg  cat.860.jpg  cat.994.jpg\n",
            "cat.225.jpg  cat.349.jpg  cat.481.jpg  cat.610.jpg  cat.740.jpg  cat.861.jpg  cat.995.jpg\n",
            "cat.227.jpg  cat.351.jpg  cat.482.jpg  cat.611.jpg  cat.741.jpg  cat.862.jpg  cat.996.jpg\n",
            "cat.228.jpg  cat.352.jpg  cat.483.jpg  cat.614.jpg  cat.742.jpg  cat.863.jpg  cat.998.jpg\n",
            "cat.229.jpg  cat.354.jpg  cat.485.jpg  cat.615.jpg  cat.743.jpg  cat.866.jpg  cat.999.jpg\n",
            "cat.22.jpg   cat.355.jpg  cat.489.jpg  cat.616.jpg  cat.744.jpg  cat.867.jpg  cat.99.jpg\n",
            "dog.0.jpg    dog.236.jpg  dog.370.jpg  dog.489.jpg  dog.628.jpg  dog.753.jpg  dog.885.jpg\n",
            "dog.102.jpg  dog.237.jpg  dog.371.jpg  dog.490.jpg  dog.62.jpg\t dog.755.jpg  dog.886.jpg\n",
            "dog.103.jpg  dog.239.jpg  dog.372.jpg  dog.492.jpg  dog.630.jpg  dog.758.jpg  dog.888.jpg\n",
            "dog.105.jpg  dog.23.jpg   dog.373.jpg  dog.493.jpg  dog.631.jpg  dog.759.jpg  dog.889.jpg\n",
            "dog.107.jpg  dog.242.jpg  dog.375.jpg  dog.494.jpg  dog.632.jpg  dog.760.jpg  dog.88.jpg\n",
            "dog.109.jpg  dog.243.jpg  dog.376.jpg  dog.497.jpg  dog.633.jpg  dog.762.jpg  dog.890.jpg\n",
            "dog.111.jpg  dog.244.jpg  dog.377.jpg  dog.498.jpg  dog.634.jpg  dog.763.jpg  dog.891.jpg\n",
            "dog.112.jpg  dog.245.jpg  dog.37.jpg   dog.4.jpg    dog.635.jpg  dog.764.jpg  dog.892.jpg\n",
            "dog.113.jpg  dog.246.jpg  dog.380.jpg  dog.500.jpg  dog.636.jpg  dog.765.jpg  dog.893.jpg\n",
            "dog.114.jpg  dog.248.jpg  dog.381.jpg  dog.501.jpg  dog.638.jpg  dog.766.jpg  dog.894.jpg\n",
            "dog.116.jpg  dog.249.jpg  dog.382.jpg  dog.502.jpg  dog.639.jpg  dog.767.jpg  dog.895.jpg\n",
            "dog.118.jpg  dog.24.jpg   dog.383.jpg  dog.503.jpg  dog.63.jpg\t dog.768.jpg  dog.896.jpg\n",
            "dog.119.jpg  dog.250.jpg  dog.385.jpg  dog.504.jpg  dog.641.jpg  dog.76.jpg   dog.898.jpg\n",
            "dog.121.jpg  dog.251.jpg  dog.386.jpg  dog.505.jpg  dog.642.jpg  dog.770.jpg  dog.899.jpg\n",
            "dog.122.jpg  dog.252.jpg  dog.387.jpg  dog.506.jpg  dog.643.jpg  dog.772.jpg  dog.89.jpg\n",
            "dog.123.jpg  dog.253.jpg  dog.389.jpg  dog.507.jpg  dog.644.jpg  dog.774.jpg  dog.8.jpg\n",
            "dog.125.jpg  dog.254.jpg  dog.38.jpg   dog.508.jpg  dog.645.jpg  dog.775.jpg  dog.900.jpg\n",
            "dog.127.jpg  dog.255.jpg  dog.390.jpg  dog.509.jpg  dog.646.jpg  dog.776.jpg  dog.901.jpg\n",
            "dog.128.jpg  dog.256.jpg  dog.391.jpg  dog.512.jpg  dog.647.jpg  dog.778.jpg  dog.902.jpg\n",
            "dog.129.jpg  dog.257.jpg  dog.392.jpg  dog.513.jpg  dog.648.jpg  dog.779.jpg  dog.903.jpg\n",
            "dog.12.jpg   dog.258.jpg  dog.393.jpg  dog.514.jpg  dog.64.jpg\t dog.780.jpg  dog.905.jpg\n",
            "dog.130.jpg  dog.25.jpg   dog.394.jpg  dog.519.jpg  dog.651.jpg  dog.781.jpg  dog.906.jpg\n",
            "dog.132.jpg  dog.261.jpg  dog.395.jpg  dog.51.jpg   dog.653.jpg  dog.782.jpg  dog.907.jpg\n",
            "dog.134.jpg  dog.262.jpg  dog.397.jpg  dog.521.jpg  dog.654.jpg  dog.783.jpg  dog.909.jpg\n",
            "dog.136.jpg  dog.265.jpg  dog.398.jpg  dog.522.jpg  dog.655.jpg  dog.784.jpg  dog.90.jpg\n",
            "dog.138.jpg  dog.266.jpg  dog.399.jpg  dog.523.jpg  dog.658.jpg  dog.785.jpg  dog.911.jpg\n",
            "dog.139.jpg  dog.268.jpg  dog.39.jpg   dog.524.jpg  dog.659.jpg  dog.787.jpg  dog.912.jpg\n",
            "dog.13.jpg   dog.270.jpg  dog.400.jpg  dog.526.jpg  dog.65.jpg\t dog.788.jpg  dog.913.jpg\n",
            "dog.140.jpg  dog.271.jpg  dog.402.jpg  dog.528.jpg  dog.660.jpg  dog.789.jpg  dog.914.jpg\n",
            "dog.141.jpg  dog.272.jpg  dog.403.jpg  dog.52.jpg   dog.662.jpg  dog.78.jpg   dog.915.jpg\n",
            "dog.144.jpg  dog.275.jpg  dog.404.jpg  dog.530.jpg  dog.663.jpg  dog.791.jpg  dog.916.jpg\n",
            "dog.145.jpg  dog.277.jpg  dog.405.jpg  dog.534.jpg  dog.665.jpg  dog.792.jpg  dog.917.jpg\n",
            "dog.146.jpg  dog.278.jpg  dog.406.jpg  dog.535.jpg  dog.666.jpg  dog.793.jpg  dog.919.jpg\n",
            "dog.147.jpg  dog.279.jpg  dog.407.jpg  dog.538.jpg  dog.667.jpg  dog.794.jpg  dog.91.jpg\n",
            "dog.148.jpg  dog.27.jpg   dog.408.jpg  dog.539.jpg  dog.669.jpg  dog.796.jpg  dog.920.jpg\n",
            "dog.149.jpg  dog.280.jpg  dog.409.jpg  dog.53.jpg   dog.66.jpg\t dog.797.jpg  dog.923.jpg\n",
            "dog.150.jpg  dog.282.jpg  dog.410.jpg  dog.542.jpg  dog.670.jpg  dog.799.jpg  dog.925.jpg\n",
            "dog.152.jpg  dog.284.jpg  dog.411.jpg  dog.544.jpg  dog.671.jpg  dog.7.jpg    dog.926.jpg\n",
            "dog.153.jpg  dog.285.jpg  dog.412.jpg  dog.545.jpg  dog.672.jpg  dog.801.jpg  dog.927.jpg\n",
            "dog.155.jpg  dog.287.jpg  dog.413.jpg  dog.548.jpg  dog.673.jpg  dog.802.jpg  dog.928.jpg\n",
            "dog.158.jpg  dog.288.jpg  dog.414.jpg  dog.549.jpg  dog.674.jpg  dog.803.jpg  dog.929.jpg\n",
            "dog.159.jpg  dog.289.jpg  dog.416.jpg  dog.54.jpg   dog.677.jpg  dog.804.jpg  dog.92.jpg\n",
            "dog.15.jpg   dog.28.jpg   dog.417.jpg  dog.550.jpg  dog.678.jpg  dog.807.jpg  dog.930.jpg\n",
            "dog.160.jpg  dog.290.jpg  dog.418.jpg  dog.553.jpg  dog.679.jpg  dog.809.jpg  dog.932.jpg\n",
            "dog.161.jpg  dog.292.jpg  dog.419.jpg  dog.555.jpg  dog.67.jpg\t dog.80.jpg   dog.934.jpg\n",
            "dog.164.jpg  dog.293.jpg  dog.41.jpg   dog.557.jpg  dog.680.jpg  dog.811.jpg  dog.936.jpg\n",
            "dog.165.jpg  dog.295.jpg  dog.421.jpg  dog.558.jpg  dog.681.jpg  dog.813.jpg  dog.938.jpg\n",
            "dog.166.jpg  dog.296.jpg  dog.422.jpg  dog.55.jpg   dog.682.jpg  dog.814.jpg  dog.939.jpg\n",
            "dog.167.jpg  dog.297.jpg  dog.423.jpg  dog.560.jpg  dog.683.jpg  dog.816.jpg  dog.93.jpg\n",
            "dog.170.jpg  dog.29.jpg   dog.424.jpg  dog.561.jpg  dog.685.jpg  dog.818.jpg  dog.940.jpg\n",
            "dog.172.jpg  dog.2.jpg\t  dog.426.jpg  dog.563.jpg  dog.686.jpg  dog.819.jpg  dog.943.jpg\n",
            "dog.175.jpg  dog.301.jpg  dog.427.jpg  dog.565.jpg  dog.687.jpg  dog.81.jpg   dog.944.jpg\n",
            "dog.176.jpg  dog.302.jpg  dog.428.jpg  dog.566.jpg  dog.689.jpg  dog.820.jpg  dog.945.jpg\n",
            "dog.178.jpg  dog.303.jpg  dog.429.jpg  dog.567.jpg  dog.68.jpg\t dog.821.jpg  dog.946.jpg\n",
            "dog.17.jpg   dog.304.jpg  dog.42.jpg   dog.568.jpg  dog.690.jpg  dog.822.jpg  dog.947.jpg\n",
            "dog.180.jpg  dog.305.jpg  dog.430.jpg  dog.569.jpg  dog.692.jpg  dog.823.jpg  dog.948.jpg\n",
            "dog.181.jpg  dog.306.jpg  dog.432.jpg  dog.56.jpg   dog.693.jpg  dog.824.jpg  dog.949.jpg\n",
            "dog.182.jpg  dog.307.jpg  dog.433.jpg  dog.571.jpg  dog.694.jpg  dog.825.jpg  dog.94.jpg\n",
            "dog.183.jpg  dog.308.jpg  dog.434.jpg  dog.572.jpg  dog.696.jpg  dog.826.jpg  dog.950.jpg\n",
            "dog.184.jpg  dog.311.jpg  dog.436.jpg  dog.573.jpg  dog.697.jpg  dog.828.jpg  dog.952.jpg\n",
            "dog.185.jpg  dog.312.jpg  dog.438.jpg  dog.574.jpg  dog.698.jpg  dog.829.jpg  dog.953.jpg\n",
            "dog.186.jpg  dog.313.jpg  dog.439.jpg  dog.576.jpg  dog.699.jpg  dog.830.jpg  dog.954.jpg\n",
            "dog.187.jpg  dog.314.jpg  dog.43.jpg   dog.578.jpg  dog.700.jpg  dog.832.jpg  dog.956.jpg\n",
            "dog.188.jpg  dog.317.jpg  dog.440.jpg  dog.579.jpg  dog.702.jpg  dog.833.jpg  dog.957.jpg\n",
            "dog.18.jpg   dog.318.jpg  dog.441.jpg  dog.582.jpg  dog.703.jpg  dog.834.jpg  dog.958.jpg\n",
            "dog.191.jpg  dog.321.jpg  dog.442.jpg  dog.583.jpg  dog.704.jpg  dog.835.jpg  dog.959.jpg\n",
            "dog.194.jpg  dog.322.jpg  dog.444.jpg  dog.585.jpg  dog.706.jpg  dog.836.jpg  dog.960.jpg\n",
            "dog.195.jpg  dog.323.jpg  dog.445.jpg  dog.586.jpg  dog.708.jpg  dog.837.jpg  dog.961.jpg\n",
            "dog.198.jpg  dog.327.jpg  dog.446.jpg  dog.587.jpg  dog.70.jpg\t dog.838.jpg  dog.962.jpg\n",
            "dog.199.jpg  dog.328.jpg  dog.448.jpg  dog.58.jpg   dog.710.jpg  dog.841.jpg  dog.963.jpg\n",
            "dog.19.jpg   dog.331.jpg  dog.449.jpg  dog.591.jpg  dog.711.jpg  dog.843.jpg  dog.964.jpg\n",
            "dog.1.jpg    dog.332.jpg  dog.44.jpg   dog.592.jpg  dog.713.jpg  dog.844.jpg  dog.965.jpg\n",
            "dog.200.jpg  dog.333.jpg  dog.450.jpg  dog.594.jpg  dog.715.jpg  dog.845.jpg  dog.967.jpg\n",
            "dog.201.jpg  dog.334.jpg  dog.451.jpg  dog.595.jpg  dog.716.jpg  dog.846.jpg  dog.968.jpg\n",
            "dog.202.jpg  dog.335.jpg  dog.452.jpg  dog.597.jpg  dog.717.jpg  dog.848.jpg  dog.969.jpg\n",
            "dog.203.jpg  dog.337.jpg  dog.453.jpg  dog.59.jpg   dog.718.jpg  dog.849.jpg  dog.970.jpg\n",
            "dog.204.jpg  dog.338.jpg  dog.455.jpg  dog.5.jpg    dog.719.jpg  dog.84.jpg   dog.972.jpg\n",
            "dog.206.jpg  dog.339.jpg  dog.457.jpg  dog.600.jpg  dog.71.jpg\t dog.850.jpg  dog.973.jpg\n",
            "dog.207.jpg  dog.33.jpg   dog.459.jpg  dog.602.jpg  dog.720.jpg  dog.851.jpg  dog.974.jpg\n",
            "dog.209.jpg  dog.342.jpg  dog.45.jpg   dog.603.jpg  dog.721.jpg  dog.852.jpg  dog.975.jpg\n",
            "dog.20.jpg   dog.343.jpg  dog.460.jpg  dog.606.jpg  dog.722.jpg  dog.855.jpg  dog.976.jpg\n",
            "dog.210.jpg  dog.344.jpg  dog.464.jpg  dog.607.jpg  dog.723.jpg  dog.856.jpg  dog.977.jpg\n",
            "dog.211.jpg  dog.345.jpg  dog.466.jpg  dog.609.jpg  dog.724.jpg  dog.857.jpg  dog.978.jpg\n",
            "dog.212.jpg  dog.346.jpg  dog.467.jpg  dog.610.jpg  dog.725.jpg  dog.861.jpg  dog.979.jpg\n",
            "dog.213.jpg  dog.347.jpg  dog.468.jpg  dog.611.jpg  dog.728.jpg  dog.862.jpg  dog.97.jpg\n",
            "dog.214.jpg  dog.348.jpg  dog.469.jpg  dog.613.jpg  dog.729.jpg  dog.863.jpg  dog.984.jpg\n",
            "dog.215.jpg  dog.34.jpg   dog.471.jpg  dog.614.jpg  dog.72.jpg\t dog.865.jpg  dog.985.jpg\n",
            "dog.216.jpg  dog.350.jpg  dog.473.jpg  dog.615.jpg  dog.730.jpg  dog.866.jpg  dog.986.jpg\n",
            "dog.217.jpg  dog.352.jpg  dog.474.jpg  dog.616.jpg  dog.734.jpg  dog.86.jpg   dog.987.jpg\n",
            "dog.218.jpg  dog.353.jpg  dog.475.jpg  dog.617.jpg  dog.736.jpg  dog.870.jpg  dog.988.jpg\n",
            "dog.219.jpg  dog.354.jpg  dog.477.jpg  dog.619.jpg  dog.739.jpg  dog.871.jpg  dog.98.jpg\n",
            "dog.223.jpg  dog.356.jpg  dog.478.jpg  dog.61.jpg   dog.73.jpg\t dog.873.jpg  dog.990.jpg\n",
            "dog.225.jpg  dog.358.jpg  dog.479.jpg  dog.620.jpg  dog.740.jpg  dog.874.jpg  dog.991.jpg\n",
            "dog.226.jpg  dog.35.jpg   dog.481.jpg  dog.621.jpg  dog.741.jpg  dog.876.jpg  dog.992.jpg\n",
            "dog.227.jpg  dog.362.jpg  dog.482.jpg  dog.622.jpg  dog.742.jpg  dog.878.jpg  dog.993.jpg\n",
            "dog.228.jpg  dog.363.jpg  dog.483.jpg  dog.623.jpg  dog.746.jpg  dog.87.jpg   dog.994.jpg\n",
            "dog.229.jpg  dog.364.jpg  dog.484.jpg  dog.624.jpg  dog.747.jpg  dog.880.jpg  dog.996.jpg\n",
            "dog.230.jpg  dog.365.jpg  dog.485.jpg  dog.625.jpg  dog.748.jpg  dog.881.jpg  dog.997.jpg\n",
            "dog.231.jpg  dog.367.jpg  dog.487.jpg  dog.626.jpg  dog.749.jpg  dog.882.jpg  dog.998.jpg\n",
            "dog.234.jpg  dog.369.jpg  dog.488.jpg  dog.627.jpg  dog.750.jpg  dog.884.jpg  dog.99.jpg\n"
          ]
        }
      ]
    },
    {
      "cell_type": "code",
      "source": [
        "from tensorflow.keras.preprocessing.image import ImageDataGenerator"
      ],
      "metadata": {
        "id": "w4TzwQPiu-1p"
      },
      "execution_count": null,
      "outputs": []
    },
    {
      "cell_type": "code",
      "source": [
        "# Import libraries\n",
        "import tensorflow as tf\n",
        "from tensorflow.keras.applications import VGG16\n",
        "from tensorflow.keras.preprocessing.image import ImageDataGenerator\n",
        "from tensorflow.keras import layers, models, optimizers\n",
        "import matplotlib.pyplot as plt"
      ],
      "metadata": {
        "id": "wibKNgEEvEXR"
      },
      "execution_count": null,
      "outputs": []
    },
    {
      "cell_type": "code",
      "source": [
        "# Load pre-trained VGG16 model without the top layers\n",
        "base_model = VGG16(weights='imagenet', include_top=False, input_shape=(150, 150, 3))"
      ],
      "metadata": {
        "colab": {
          "base_uri": "https://localhost:8080/"
        },
        "id": "fXvY6pt-vO6C",
        "outputId": "a0f7d314-d61f-4d22-f46d-9a13e0dc6eca"
      },
      "execution_count": null,
      "outputs": [
        {
          "output_type": "stream",
          "name": "stdout",
          "text": [
            "Downloading data from https://storage.googleapis.com/tensorflow/keras-applications/vgg16/vgg16_weights_tf_dim_ordering_tf_kernels_notop.h5\n",
            "\u001b[1m58889256/58889256\u001b[0m \u001b[32m━━━━━━━━━━━━━━━━━━━━\u001b[0m\u001b[37m\u001b[0m \u001b[1m0s\u001b[0m 0us/step\n"
          ]
        }
      ]
    },
    {
      "cell_type": "code",
      "source": [
        "# Freeze convolutional layers to retain pre-trained features\n",
        "base_model.trainable = False"
      ],
      "metadata": {
        "id": "imeMc6QavXBE"
      },
      "execution_count": null,
      "outputs": []
    },
    {
      "cell_type": "code",
      "source": [
        "# Add custom fully connected layers for classification\n",
        "model = models.Sequential([\n",
        "    base_model,\n",
        "    layers.Flatten(),\n",
        "    layers.Dense(256, activation='relu'),\n",
        "    layers.Dropout(0.5),\n",
        "    layers.Dense(2, activation='softmax')  # 2 classes: cats and dogs\n",
        "])"
      ],
      "metadata": {
        "id": "CaRShcAivZNr"
      },
      "execution_count": null,
      "outputs": []
    },
    {
      "cell_type": "code",
      "source": [
        "# Compile the model\n",
        "model.compile(\n",
        "    optimizer=optimizers.SGD(learning_rate=0.001, momentum=0.9),\n",
        "    loss='categorical_crossentropy',\n",
        "    metrics=['accuracy']\n",
        ")"
      ],
      "metadata": {
        "id": "hSi_YwiCvd2S"
      },
      "execution_count": null,
      "outputs": []
    },
    {
      "cell_type": "code",
      "source": [
        "# Freeze convolutional layers to retain pre-trained features\n",
        "base_model.trainable = False"
      ],
      "metadata": {
        "id": "lchEl5YYvk6D"
      },
      "execution_count": null,
      "outputs": []
    },
    {
      "cell_type": "code",
      "source": [
        "# Add custom fully connected layers for classification\n",
        "model = models.Sequential([\n",
        "    base_model,\n",
        "    layers.Flatten(),\n",
        "    layers.Dense(256, activation='relu'),\n",
        "    layers.Dropout(0.5),\n",
        "    layers.Dense(2, activation='softmax')  # 2 classes: cats and dogs\n",
        "])"
      ],
      "metadata": {
        "id": "3xcKNL4KwowH"
      },
      "execution_count": null,
      "outputs": []
    },
    {
      "cell_type": "code",
      "source": [
        "# Compile the model\n",
        "model.compile(\n",
        "    optimizer=optimizers.SGD(learning_rate=0.001, momentum=0.9),\n",
        "    loss='categorical_crossentropy',\n",
        "    metrics=['accuracy']\n",
        ")"
      ],
      "metadata": {
        "id": "ZL_7cpdews0x"
      },
      "execution_count": null,
      "outputs": []
    },
    {
      "cell_type": "code",
      "source": [
        "# Set up data preprocessing and augmentation\n",
        "train_datagen = ImageDataGenerator(\n",
        "    rescale=1./255,\n",
        "    rotation_range=20,\n",
        "    width_shift_range=0.2,\n",
        "    height_shift_range=0.2,\n",
        "    shear_range=0.2,\n",
        "    zoom_range=0.2,\n",
        "    horizontal_flip=True\n",
        ")"
      ],
      "metadata": {
        "id": "rTYRabhTwz0Y"
      },
      "execution_count": null,
      "outputs": []
    },
    {
      "cell_type": "code",
      "source": [
        "validation_datagen = ImageDataGenerator(rescale=1./255)"
      ],
      "metadata": {
        "id": "R0qVQIalw6-i"
      },
      "execution_count": null,
      "outputs": []
    },
    {
      "cell_type": "code",
      "source": [
        "# Load data\n",
        "train_generator = train_datagen.flow_from_directory(\n",
        "    '/content/dataset_split/train',\n",
        "    target_size=(150, 150),\n",
        "    batch_size=32,\n",
        "    class_mode='categorical'\n",
        ")\n",
        "validation_generator = validation_datagen.flow_from_directory(\n",
        "    '/content/dataset_split/validation',\n",
        "    target_size=(150, 150),\n",
        "    batch_size=32,\n",
        "    class_mode='categorical'\n",
        ")"
      ],
      "metadata": {
        "colab": {
          "base_uri": "https://localhost:8080/"
        },
        "id": "ihu1e2KPw_sW",
        "outputId": "4c993234-21f4-4982-9098-ddff5856b3fb"
      },
      "execution_count": null,
      "outputs": [
        {
          "output_type": "stream",
          "name": "stdout",
          "text": [
            "Found 1400 images belonging to 2 classes.\n",
            "Found 300 images belonging to 2 classes.\n"
          ]
        }
      ]
    },
    {
      "cell_type": "code",
      "source": [
        "# Train the model\n",
        "history = model.fit(\n",
        "    train_generator,\n",
        "    steps_per_epoch=train_generator.samples // train_generator.batch_size,\n",
        "    epochs=5,\n",
        "    validation_data=validation_generator,\n",
        "    validation_steps=validation_generator.samples // validation_generator.batch_size\n",
        ")"
      ],
      "metadata": {
        "colab": {
          "base_uri": "https://localhost:8080/"
        },
        "id": "QxIpvt1AxIKQ",
        "outputId": "1b385e32-87f1-4e49-82a9-b61fc16fbae5"
      },
      "execution_count": null,
      "outputs": [
        {
          "output_type": "stream",
          "name": "stdout",
          "text": [
            "Epoch 1/5\n"
          ]
        },
        {
          "output_type": "stream",
          "name": "stderr",
          "text": [
            "/usr/local/lib/python3.10/dist-packages/keras/src/trainers/data_adapters/py_dataset_adapter.py:122: UserWarning: Your `PyDataset` class should call `super().__init__(**kwargs)` in its constructor. `**kwargs` can include `workers`, `use_multiprocessing`, `max_queue_size`. Do not pass these arguments to `fit()`, as they will be ignored.\n",
            "  self._warn_if_super_not_called()\n"
          ]
        },
        {
          "output_type": "stream",
          "name": "stdout",
          "text": [
            "\u001b[1m39/43\u001b[0m \u001b[32m━━━━━━━━━━━━━━━━━━\u001b[0m\u001b[37m━━\u001b[0m \u001b[1m31s\u001b[0m 8s/step - accuracy: 0.5575 - loss: 0.7829"
          ]
        }
      ]
    },
    {
      "cell_type": "code",
      "source": [
        "# Evaluate the model\n",
        "test_datagen = ImageDataGenerator(rescale=1./255)\n",
        "test_generator = test_datagen.flow_from_directory(\n",
        "    '/content/dataset_split/test',\n",
        "    target_size=(150, 150),\n",
        "    batch_size=32,\n",
        "    class_mode='categorical'\n",
        ")\n",
        "\n",
        "test_loss, test_accuracy = model.evaluate(test_generator)\n",
        "print(f\"Test Accuracy: {test_accuracy * 100:.2f}%\")"
      ],
      "metadata": {
        "id": "R_BK_G7axMZX"
      },
      "execution_count": null,
      "outputs": []
    },
    {
      "cell_type": "code",
      "source": [
        "# Plot training and validation accuracy\n",
        "plt.plot(history.history['accuracy'], label='Train Accuracy')\n",
        "plt.plot(history.history['val_accuracy'], label='Validation Accuracy')\n",
        "plt.legend()\n",
        "plt.show()"
      ],
      "metadata": {
        "id": "1opY8PKMxP9f"
      },
      "execution_count": null,
      "outputs": []
    },
    {
      "cell_type": "code",
      "source": [
        "from tensorflow.keras.preprocessing import image\n",
        "import numpy as np\n",
        "image_path = '/content/cat1.jpg'\n",
        "img = image.load_img(image_path, target_size=(150, 150))\n",
        "img_array = image.img_to_array(img) / 255.0\n",
        "img_array = np.expand_dims(img_array, axis=0)"
      ],
      "metadata": {
        "id": "f7Gq-fv0xTxc"
      },
      "execution_count": null,
      "outputs": []
    },
    {
      "cell_type": "code",
      "source": [
        "prediction = model.predict(img_array)\n",
        "class_idx = prediction.argmax()\n",
        "confidence = prediction[0][class_idx]"
      ],
      "metadata": {
        "id": "ovB_dgb3xTuC"
      },
      "execution_count": null,
      "outputs": []
    },
    {
      "cell_type": "code",
      "source": [
        "labels = {v: k for k, v in train_generator.class_indices.items()}\n",
        "print(f\"Predicted Class: {labels[class_idx]}, Confidence: {confidence:.2f}\")"
      ],
      "metadata": {
        "id": "aA2KruLbxfqM"
      },
      "execution_count": null,
      "outputs": []
    },
    {
      "cell_type": "code",
      "source": [
        "# Prediction on new images\n",
        "def predict_image(image_path):\n",
        "    from tensorflow.keras.preprocessing import image\n",
        "    import numpy as np\n",
        "\n",
        "    img = image.load_img('/content/cat1.jpg', target_size=(150, 150))\n",
        "    img_array = image.img_to_array(img) / 255.0\n",
        "    img_array = np.expand_dims(img_array, axis=0)\n",
        "\n",
        "    prediction = model.predict(img_array)\n",
        "    class_idx = prediction.argmax()\n",
        "    confidence = prediction[0][class_idx]"
      ],
      "metadata": {
        "id": "h_Sa7eSzxjyy"
      },
      "execution_count": null,
      "outputs": []
    },
    {
      "cell_type": "code",
      "source": [
        "labels = {v: k for k, v in train_generator.class_indices.items()}\n",
        "print(f\"Predicted Class: {labels[class_idx]}, Confidence: {confidence:.2f}\")"
      ],
      "metadata": {
        "id": "vKOTgEEGxoC7"
      },
      "execution_count": null,
      "outputs": []
    },
    {
      "cell_type": "code",
      "source": [
        "import matplotlib.pyplot as plt\n",
        "img = image.load_img(image_path)\n",
        "plt.imshow(img)\n",
        "plt.show()"
      ],
      "metadata": {
        "id": "FVK9PJvMxo7c"
      },
      "execution_count": null,
      "outputs": []
    },
    {
      "cell_type": "code",
      "source": [
        "# Save the model after training\n",
        "model.save('/content/drive/MyDrive/cats_dogs_model.h5')  # Save the model to Google Drive"
      ],
      "metadata": {
        "id": "kS_3NHcixvfe"
      },
      "execution_count": null,
      "outputs": []
    },
    {
      "cell_type": "code",
      "source": [
        "from tensorflow.keras.models import load_model\n",
        "\n",
        "# Load the trained model from the .h5 file\n",
        "model = load_model('/content/drive/MyDrive/cats_dogs_model.h5')"
      ],
      "metadata": {
        "id": "2QJqbdGex1vf"
      },
      "execution_count": null,
      "outputs": []
    },
    {
      "cell_type": "code",
      "source": [
        "# Example usage\n",
        "predict_image('/content/cat1.jpg')"
      ],
      "metadata": {
        "id": "AmHfMOu3x6og"
      },
      "execution_count": null,
      "outputs": []
    },
    {
      "cell_type": "code",
      "source": [
        "!pip install streamlit"
      ],
      "metadata": {
        "id": "va3HYSl4x_yd"
      },
      "execution_count": null,
      "outputs": []
    },
    {
      "cell_type": "code",
      "source": [
        "!pip install pyngrok"
      ],
      "metadata": {
        "id": "8n0h-ugmyE1Z"
      },
      "execution_count": null,
      "outputs": []
    },
    {
      "cell_type": "code",
      "source": [
        "%%writefile image_classifier.py\n",
        "import streamlit as st\n",
        "from tensorflow.keras.models import load_model\n",
        "from tensorflow.keras.preprocessing import image\n",
        "import numpy as np\n",
        "import os\n",
        "import matplotlib.pyplot as plt"
      ],
      "metadata": {
        "id": "dQRXt0VPyNA1"
      },
      "execution_count": null,
      "outputs": []
    },
    {
      "cell_type": "code",
      "source": [
        "# Load the trained model\n",
        "model = load_model('/content/drive/MyDrive/cats_dogs_model.h5')\n",
        "# Define class labels (you can get them from your train generator class indices)\n",
        "class_labels = {0: 'Cat', 1: 'Dog'}\n",
        "\n",
        "# Streamlit app title\n",
        "st.title(\"Cats vs Dogs Image Classifier\")\n",
        "\n",
        "# Upload Image\n",
        "uploaded_file = st.file_uploader(\"Choose an image...\", type=[\"jpg\", \"jpeg\", \"png\"])\n",
        "\n",
        "# Image Preprocessing\n",
        "def preprocess_image(img):\n",
        "    img = image.load_img(img, target_size=(150, 150))  # Resize image to 150x150\n",
        "    img_array = image.img_to_array(img) / 255.0  # Normalize pixel values\n",
        "    img_array = np.expand_dims(img_array, axis=0)  # Add batch dimension\n",
        "    return img_array\n",
        "\n",
        "# Make predictions\n",
        "if uploaded_file is not None:\n",
        "    img = image.load_img(uploaded_file)\n",
        "    st.image(img, caption=\"Uploaded Image\", use_column_width=True)\n",
        "\n",
        "    # Preprocess image and make prediction\n",
        "    img_array = preprocess_image(uploaded_file)\n",
        "    prediction = model.predict(img_array)\n",
        "\n",
        "    class_idx = prediction.argmax()  # Get the class index (0 for Cat, 1 for Dog)\n",
        "    confidence = prediction[0][class_idx]  # Get the confidence of the prediction\n",
        "\n",
        "    st.write(f\"Predicted Class: {class_labels[class_idx]}\")\n",
        "    st.write(f\"Confidence: {confidence:.2f}\")\n",
        "\n",
        "    # Show a bar chart for prediction confidence\n",
        "    fig, ax = plt.subplots()\n",
        "    ax.bar(class_labels.values(), prediction[0], color=['blue', 'orange'])\n",
        "    ax.set_ylabel('Confidence')\n",
        "    st.pyplot(fig)\n",
        "\n"
      ],
      "metadata": {
        "id": "aejU-O08yZjc"
      },
      "execution_count": null,
      "outputs": []
    },
    {
      "cell_type": "code",
      "source": [
        "# Restart Streamlit app\n",
        "!streamlit run image_classifier.py &>/dev/null&"
      ],
      "metadata": {
        "id": "gnS_x-GDyun5"
      },
      "execution_count": null,
      "outputs": []
    },
    {
      "cell_type": "code",
      "source": [
        "!ngrok config add-authtoken 2ldmsLpKzhUHwtMmhMHw18qtqLQ_7HVy6zxNizWKfyMbMaDEu"
      ],
      "metadata": {
        "id": "dohP53tDyzH6"
      },
      "execution_count": null,
      "outputs": []
    },
    {
      "cell_type": "code",
      "source": [
        "from pyngrok import ngrok\n",
        "public_url = ngrok.connect(addr='8501')\n",
        "print(public_url)"
      ],
      "metadata": {
        "id": "Fl-0-8J3y3Wf"
      },
      "execution_count": null,
      "outputs": []
    }
  ]
}